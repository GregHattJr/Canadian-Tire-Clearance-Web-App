{
 "cells": [
  {
   "cell_type": "code",
   "execution_count": 39,
   "metadata": {},
   "outputs": [],
   "source": [
    "import time\n",
    "import math \n",
    "import requests\n",
    "import pandas as pd\n",
    "from splinter import Browser\n",
    "from bs4 import BeautifulSoup as soup"
   ]
  },
  {
   "cell_type": "code",
   "execution_count": 40,
   "metadata": {},
   "outputs": [],
   "source": [
    "from selenium import webdriver\n",
    "from selenium.webdriver.chrome.service import Service\n",
    "from selenium.webdriver.support.ui import WebDriverWait\n",
    "from selenium.webdriver.support import expected_conditions as EC\n",
    "from selenium.webdriver.common.by import By\n",
    "import re"
   ]
  },
  {
   "cell_type": "code",
   "execution_count": null,
   "metadata": {},
   "outputs": [],
   "source": [
    "browser = Browser('edge')"
   ]
  },
  {
   "cell_type": "code",
   "execution_count": null,
   "metadata": {},
   "outputs": [],
   "source": [
    "url = \"https://www.canadiantire.ca/en/promotions/clearance.html?page=1\"\n",
    "browser.visit(url)"
   ]
  },
  {
   "cell_type": "code",
   "execution_count": null,
   "metadata": {},
   "outputs": [],
   "source": [
    "html = browser.html\n",
    "html_soup = soup(html, 'html.parser')"
   ]
  },
  {
   "cell_type": "code",
   "execution_count": null,
   "metadata": {},
   "outputs": [],
   "source": [
    "product_info = html_soup.find_all(class_='nl-product-card__primary-details')\n",
    "product_data = []\n",
    "\n",
    "for product in product_info:\n",
    "    product_name_element = product.find('div', class_='nl-product-card__title')\n",
    "    original_price_element = product.find('s', attrs={'aria-hidden': 'true'})\n",
    "    clearance_price_element = product.find('span', class_='nl-price--total--red')\n",
    "    rating_element = product.find('div', class_='bv_text')\n",
    "    image_element = product.find('div', class_='nl-product-card__image-wrap')\n",
    "\n",
    "    product_name = product_name_element.text.strip() if product_name_element else 'N/A'\n",
    "    original_price = original_price_element.text.strip() if original_price_element else 'N/A'\n",
    "    clearance_price = clearance_price_element.text.strip() if clearance_price_element else 'N/A'\n",
    "    rating = rating_element.text.strip() if rating_element else 'N/A'\n",
    "    product_code_element = product.find('p', class_='nl-product__code', attrs={'aria-hidden': 'true'})\n",
    "    product_code = product_code_element.get_text(strip=True).lstrip('#') if product_code_element else 'N/A'\n",
    "\n",
    "    product_data.append({\n",
    "        'Product Name': product_name,\n",
    "        'Original Price': original_price,\n",
    "        'Clearance Price': clearance_price,\n",
    "        'Rating': rating,\n",
    "        'Product Code': product_code\n",
    "    })\n",
    "\n",
    "print(product_data)"
   ]
  },
  {
   "cell_type": "code",
   "execution_count": null,
   "metadata": {},
   "outputs": [],
   "source": [
    "df1 = pd.DataFrame(product_data)\n",
    "\n",
    "df1.head()"
   ]
  },
  {
   "cell_type": "code",
   "execution_count": 43,
   "metadata": {},
   "outputs": [
    {
     "ename": "NoSuchWindowException",
     "evalue": "Message: no such window: target window already closed\nfrom unknown error: web view not found\n  (Session info: chrome=115.0.5790.102)\nStacktrace:\nBacktrace:\n\tGetHandleVerifier [0x0111A813+48355]\n\t(No symbol) [0x010AC4B1]\n\t(No symbol) [0x00FB5358]\n\t(No symbol) [0x00F9D293]\n\t(No symbol) [0x00FFE37B]\n\t(No symbol) [0x0100C473]\n\t(No symbol) [0x00FFA536]\n\t(No symbol) [0x00FD82DC]\n\t(No symbol) [0x00FD93DD]\n\tGetHandleVerifier [0x0137AABD+2539405]\n\tGetHandleVerifier [0x013BA78F+2800735]\n\tGetHandleVerifier [0x013B456C+2775612]\n\tGetHandleVerifier [0x011A51E0+616112]\n\t(No symbol) [0x010B5F8C]\n\t(No symbol) [0x010B2328]\n\t(No symbol) [0x010B240B]\n\t(No symbol) [0x010A4FF7]\n\tBaseThreadInitThunk [0x76B77D59+25]\n\tRtlInitializeExceptionChain [0x7754B79B+107]\n\tRtlClearBits [0x7754B71F+191]\n",
     "output_type": "error",
     "traceback": [
      "\u001b[1;31m---------------------------------------------------------------------------\u001b[0m",
      "\u001b[1;31mNoSuchWindowException\u001b[0m                     Traceback (most recent call last)",
      "Cell \u001b[1;32mIn[43], line 26\u001b[0m\n\u001b[0;32m     23\u001b[0m driver\u001b[39m.\u001b[39mget(url)\n\u001b[0;32m     24\u001b[0m time\u001b[39m.\u001b[39msleep(\u001b[39m5\u001b[39m)\n\u001b[1;32m---> 26\u001b[0m html_content \u001b[39m=\u001b[39m driver\u001b[39m.\u001b[39;49mpage_source\n\u001b[0;32m     27\u001b[0m html_soup \u001b[39m=\u001b[39m soup(html_content, \u001b[39m'\u001b[39m\u001b[39mhtml.parser\u001b[39m\u001b[39m'\u001b[39m)\n\u001b[0;32m     29\u001b[0m product_info \u001b[39m=\u001b[39m html_soup\u001b[39m.\u001b[39mfind_all(class_\u001b[39m=\u001b[39m\u001b[39m'\u001b[39m\u001b[39mnl-product-card__primary-details\u001b[39m\u001b[39m'\u001b[39m)\n",
      "File \u001b[1;32mc:\\Users\\krist\\anaconda3\\lib\\site-packages\\selenium\\webdriver\\remote\\webdriver.py:447\u001b[0m, in \u001b[0;36mWebDriver.page_source\u001b[1;34m(self)\u001b[0m\n\u001b[0;32m    438\u001b[0m \u001b[39m@property\u001b[39m\n\u001b[0;32m    439\u001b[0m \u001b[39mdef\u001b[39;00m \u001b[39mpage_source\u001b[39m(\u001b[39mself\u001b[39m) \u001b[39m-\u001b[39m\u001b[39m>\u001b[39m \u001b[39mstr\u001b[39m:\n\u001b[0;32m    440\u001b[0m     \u001b[39m\"\"\"Gets the source of the current page.\u001b[39;00m\n\u001b[0;32m    441\u001b[0m \n\u001b[0;32m    442\u001b[0m \u001b[39m    :Usage:\u001b[39;00m\n\u001b[1;32m   (...)\u001b[0m\n\u001b[0;32m    445\u001b[0m \u001b[39m            driver.page_source\u001b[39;00m\n\u001b[0;32m    446\u001b[0m \u001b[39m    \"\"\"\u001b[39;00m\n\u001b[1;32m--> 447\u001b[0m     \u001b[39mreturn\u001b[39;00m \u001b[39mself\u001b[39;49m\u001b[39m.\u001b[39;49mexecute(Command\u001b[39m.\u001b[39;49mGET_PAGE_SOURCE)[\u001b[39m\"\u001b[39m\u001b[39mvalue\u001b[39m\u001b[39m\"\u001b[39m]\n",
      "File \u001b[1;32mc:\\Users\\krist\\anaconda3\\lib\\site-packages\\selenium\\webdriver\\remote\\webdriver.py:346\u001b[0m, in \u001b[0;36mWebDriver.execute\u001b[1;34m(self, driver_command, params)\u001b[0m\n\u001b[0;32m    344\u001b[0m response \u001b[39m=\u001b[39m \u001b[39mself\u001b[39m\u001b[39m.\u001b[39mcommand_executor\u001b[39m.\u001b[39mexecute(driver_command, params)\n\u001b[0;32m    345\u001b[0m \u001b[39mif\u001b[39;00m response:\n\u001b[1;32m--> 346\u001b[0m     \u001b[39mself\u001b[39;49m\u001b[39m.\u001b[39;49merror_handler\u001b[39m.\u001b[39;49mcheck_response(response)\n\u001b[0;32m    347\u001b[0m     response[\u001b[39m\"\u001b[39m\u001b[39mvalue\u001b[39m\u001b[39m\"\u001b[39m] \u001b[39m=\u001b[39m \u001b[39mself\u001b[39m\u001b[39m.\u001b[39m_unwrap_value(response\u001b[39m.\u001b[39mget(\u001b[39m\"\u001b[39m\u001b[39mvalue\u001b[39m\u001b[39m\"\u001b[39m, \u001b[39mNone\u001b[39;00m))\n\u001b[0;32m    348\u001b[0m     \u001b[39mreturn\u001b[39;00m response\n",
      "File \u001b[1;32mc:\\Users\\krist\\anaconda3\\lib\\site-packages\\selenium\\webdriver\\remote\\errorhandler.py:245\u001b[0m, in \u001b[0;36mErrorHandler.check_response\u001b[1;34m(self, response)\u001b[0m\n\u001b[0;32m    243\u001b[0m         alert_text \u001b[39m=\u001b[39m value[\u001b[39m\"\u001b[39m\u001b[39malert\u001b[39m\u001b[39m\"\u001b[39m]\u001b[39m.\u001b[39mget(\u001b[39m\"\u001b[39m\u001b[39mtext\u001b[39m\u001b[39m\"\u001b[39m)\n\u001b[0;32m    244\u001b[0m     \u001b[39mraise\u001b[39;00m exception_class(message, screen, stacktrace, alert_text)  \u001b[39m# type: ignore[call-arg]  # mypy is not smart enough here\u001b[39;00m\n\u001b[1;32m--> 245\u001b[0m \u001b[39mraise\u001b[39;00m exception_class(message, screen, stacktrace)\n",
      "\u001b[1;31mNoSuchWindowException\u001b[0m: Message: no such window: target window already closed\nfrom unknown error: web view not found\n  (Session info: chrome=115.0.5790.102)\nStacktrace:\nBacktrace:\n\tGetHandleVerifier [0x0111A813+48355]\n\t(No symbol) [0x010AC4B1]\n\t(No symbol) [0x00FB5358]\n\t(No symbol) [0x00F9D293]\n\t(No symbol) [0x00FFE37B]\n\t(No symbol) [0x0100C473]\n\t(No symbol) [0x00FFA536]\n\t(No symbol) [0x00FD82DC]\n\t(No symbol) [0x00FD93DD]\n\tGetHandleVerifier [0x0137AABD+2539405]\n\tGetHandleVerifier [0x013BA78F+2800735]\n\tGetHandleVerifier [0x013B456C+2775612]\n\tGetHandleVerifier [0x011A51E0+616112]\n\t(No symbol) [0x010B5F8C]\n\t(No symbol) [0x010B2328]\n\t(No symbol) [0x010B240B]\n\t(No symbol) [0x010A4FF7]\n\tBaseThreadInitThunk [0x76B77D59+25]\n\tRtlInitializeExceptionChain [0x7754B79B+107]\n\tRtlClearBits [0x7754B71F+191]\n"
     ]
    }
   ],
   "source": [
    "base_url = \"https://www.canadiantire.ca/en/promotions/clearance.html?page=\"\n",
    "\n",
    "service = Service(\"C:\\Program Files\\Common Files\\ChromeDriver\\chromedriver.exe\")\n",
    "driver = webdriver.Chrome(service=service)\n",
    "\n",
    "driver.get(base_url)\n",
    "time.sleep(5)\n",
    "html_content = driver.page_source\n",
    "html_soup = soup(html_content, 'html.parser')\n",
    "\n",
    "total_results_element = html_soup.find('span', class_='nl-filters__results')\n",
    "total_results_text = total_results_element.text if total_results_element else '0'\n",
    "\n",
    "total_results = int(re.search(r'\\d+', total_results_text).group())\n",
    "\n",
    "items_per_page = 24\n",
    "total_pages = math.ceil(total_results / items_per_page)\n",
    "\n",
    "product_data = []\n",
    "\n",
    "for page_number in range(1, total_pages + 1):\n",
    "    url = base_url + str(page_number)\n",
    "    driver.get(url)\n",
    "    time.sleep(5)\n",
    "\n",
    "    try:\n",
    "        not_right_now_button = WebDriverWait(driver, 10).until(\n",
    "            EC.element_to_be_clickable((By.ID, \"kplDeclineButton\"))\n",
    "        )\n",
    "        not_right_now_button.click()\n",
    "    except:\n",
    "        pass\n",
    "\n",
    "    html_content = driver.page_source\n",
    "    html_soup = soup(html_content, 'html.parser')\n",
    "\n",
    "    product_info = html_soup.find_all(class_='nl-product-card__primary-details')\n",
    "\n",
    "    for product in product_info:\n",
    "        product_name_element = product.find('div', class_='nl-product-card__title')\n",
    "        original_price_element = product.find('s', attrs={'aria-hidden': 'true'})\n",
    "        clearance_price_element = product.find('span', class_='nl-price--total--red')\n",
    "        rating_element = product.find('div', class_='bv_text')\n",
    "        image_element = product.find('div', class_='nl-product-card__image-wrap')\n",
    "\n",
    "        product_name = product_name_element.text.strip() if product_name_element else 'N/A'\n",
    "        original_price = original_price_element.text.strip() if original_price_element else 'N/A'\n",
    "        clearance_price = clearance_price_element.text.strip() if clearance_price_element else 'N/A'\n",
    "        rating = rating_element.text.strip() if rating_element else 'N/A'\n",
    "        product_code_element = product.find('p', class_='nl-product__code', attrs={'aria-hidden': 'true'})\n",
    "        product_code = product_code_element.get_text(strip=True).lstrip('#') if product_code_element else 'N/A'\n",
    "\n",
    "        product_data.append({\n",
    "            'Product Name': product_name,\n",
    "            'Original Price': original_price,\n",
    "            'Clearance Price': clearance_price,\n",
    "            'Rating': rating,\n",
    "            'Product Code': product_code\n",
    "        })\n",
    "\n",
    "driver.quit()\n",
    "\n",
    "print(f\"Total number of results: {total_results}\")\n",
    "print(f\"Total number of pages: {total_pages}\")"
   ]
  },
  {
   "cell_type": "code",
   "execution_count": null,
   "metadata": {},
   "outputs": [],
   "source": [
    "df = pd.DataFrame(product_data)\n",
    "df.info()"
   ]
  },
  {
   "cell_type": "code",
   "execution_count": null,
   "metadata": {},
   "outputs": [],
   "source": [
    "df.head()"
   ]
  }
 ],
 "metadata": {
  "kernelspec": {
   "display_name": "base",
   "language": "python",
   "name": "python3"
  },
  "language_info": {
   "codemirror_mode": {
    "name": "ipython",
    "version": 3
   },
   "file_extension": ".py",
   "mimetype": "text/x-python",
   "name": "python",
   "nbconvert_exporter": "python",
   "pygments_lexer": "ipython3",
   "version": "3.9.16"
  },
  "orig_nbformat": 4
 },
 "nbformat": 4,
 "nbformat_minor": 2
}
