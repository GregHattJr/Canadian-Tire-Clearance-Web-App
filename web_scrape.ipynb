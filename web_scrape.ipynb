{
 "cells": [
  {
   "cell_type": "code",
   "execution_count": 1,
   "metadata": {},
   "outputs": [],
   "source": [
    "import time\n",
    "import requests\n",
    "import pandas as pd\n",
    "from splinter import Browser\n",
    "from bs4 import BeautifulSoup as soup\n",
    "from selenium import webdriver\n",
    "from selenium.webdriver.support.ui import WebDriverWait\n",
    "from selenium.webdriver.support import expected_conditions as EC\n",
    "from selenium.webdriver.common.by import By\n",
    "from selenium.common.exceptions import NoSuchElementException\n",
    "from selenium.webdriver.common.keys import Keys\n",
    "import re"
   ]
  },
  {
   "cell_type": "code",
   "execution_count": 2,
   "metadata": {},
   "outputs": [
    {
     "name": "stderr",
     "output_type": "stream",
     "text": [
      "C:\\Users\\krist\\AppData\\Local\\Temp\\ipykernel_6492\\2190257977.py:3: DeprecationWarning: executable_path has been deprecated, please pass in a Service object\n",
      "  driver = webdriver.Chrome(executable_path=executable_path)\n"
     ]
    }
   ],
   "source": [
    "url = \"https://www.canadiantire.ca/en/promotions/clearance.html\"\n",
    "executable_path = r\"C:\\Program Files\\Common Files\\ChromeDriver\\chromedriver.exe\"\n",
    "driver = webdriver.Chrome(executable_path=executable_path)\n",
    "driver.get(url)"
   ]
  },
  {
   "cell_type": "code",
   "execution_count": 3,
   "metadata": {},
   "outputs": [],
   "source": [
    "response = requests.get(url)\n",
    "html_content = response.content\n",
    "soup = soup(html_content, 'html.parser')"
   ]
  },
  {
   "cell_type": "code",
   "execution_count": 4,
   "metadata": {},
   "outputs": [
    {
     "name": "stderr",
     "output_type": "stream",
     "text": [
      "C:\\Users\\krist\\AppData\\Local\\Temp\\ipykernel_6492\\3050904393.py:4: DeprecationWarning: find_element_by_xpath is deprecated. Please use find_element(by=By.XPATH, value=xpath) instead\n",
      "  allow_button = driver.find_element_by_xpath(\"//button[@aria-label='Allow']\")\n"
     ]
    }
   ],
   "source": [
    "time.sleep(10)\n",
    "try:\n",
    "    # Find the \"Allow\" button and click it if the popup appears\n",
    "    allow_button = driver.find_element_by_xpath(\"//button[@aria-label='Allow']\")\n",
    "    allow_button.click()\n",
    "except:\n",
    "    # If the popup does not appear or the \"Allow\" button is not found, move on.\n",
    "    pass"
   ]
  },
  {
   "cell_type": "code",
   "execution_count": 7,
   "metadata": {},
   "outputs": [],
   "source": [
    "clearance_items = soup.find_all('div', class_='nl-product-card__primary-details')\n",
    "\n",
    "for item in clearance_items:\n",
    "    product_name = item.find('div', class_='nl-product-card__title nl-product--trim').text.strip()\n",
    "    \n",
    "    origin_price_div = item.find('div', class_='nl-price--was')\n",
    "    if origin_price_div:  # Check if the element is found before extracting the price\n",
    "        price = origin_price_div.find('s').text.strip()\n",
    "    else:\n",
    "        price = \"N/A\"  # Set a default value if the original price is not found for the item\n",
    "    \n",
    "    clearance_price_span = item.find('span', class_='nl-price--total--red')\n",
    "    if clearance_price_span:  # Check if the element is found before extracting the price\n",
    "        clearance_price = clearance_price_span.text.strip()\n",
    "    else:\n",
    "        clearance_price = \"N/A\"  # Set a default value if the clearance price is not found for the item\n",
    "    \n",
    "    # Do something with product_name, price, and clearance_price (e.g., print or store the data)\n",
    "    print(f\"Product: {product_name}, Original Price: {price}, Clearance Price: {clearance_price}\")"
   ]
  },
  {
   "cell_type": "code",
   "execution_count": null,
   "metadata": {},
   "outputs": [],
   "source": []
  }
 ],
 "metadata": {
  "kernelspec": {
   "display_name": "base",
   "language": "python",
   "name": "python3"
  },
  "language_info": {
   "codemirror_mode": {
    "name": "ipython",
    "version": 3
   },
   "file_extension": ".py",
   "mimetype": "text/x-python",
   "name": "python",
   "nbconvert_exporter": "python",
   "pygments_lexer": "ipython3",
   "version": "3.9.16"
  },
  "orig_nbformat": 4
 },
 "nbformat": 4,
 "nbformat_minor": 2
}
