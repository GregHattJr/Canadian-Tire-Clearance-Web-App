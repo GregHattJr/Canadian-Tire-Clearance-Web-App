{
 "cells": [
  {
   "cell_type": "code",
   "execution_count": 39,
   "metadata": {},
   "outputs": [],
   "source": [
    "import time\n",
    "import math \n",
    "import requests\n",
    "import pandas as pd\n",
    "from splinter import Browser\n",
    "from bs4 import BeautifulSoup as soup"
   ]
  },
  {
   "cell_type": "code",
   "execution_count": 40,
   "metadata": {},
   "outputs": [],
   "source": [
    "from selenium import webdriver\n",
    "from selenium.webdriver.chrome.service import Service\n",
    "from selenium.webdriver.support.ui import WebDriverWait\n",
    "from selenium.webdriver.support import expected_conditions as EC\n",
    "from selenium.webdriver.common.by import By\n",
    "import re"
   ]
  },
  {
   "cell_type": "code",
   "execution_count": null,
   "metadata": {},
   "outputs": [],
   "source": [
    "browser = Browser('edge')"
   ]
  },
  {
   "cell_type": "code",
   "execution_count": null,
   "metadata": {},
   "outputs": [],
   "source": [
    "url = \"https://www.canadiantire.ca/en/promotions/clearance.html?page=1\"\n",
    "browser.visit(url)"
   ]
  },
  {
   "cell_type": "code",
   "execution_count": null,
   "metadata": {},
   "outputs": [],
   "source": [
    "html = browser.html\n",
    "html_soup = soup(html, 'html.parser')"
   ]
  },
  {
   "cell_type": "code",
   "execution_count": null,
   "metadata": {},
   "outputs": [],
   "source": [
    "product_info = html_soup.find_all(class_='nl-product-card__primary-details')\n",
    "product_data = []\n",
    "\n",
    "for product in product_info:\n",
    "    product_name_element = product.find('div', class_='nl-product-card__title')\n",
    "    original_price_element = product.find('s', attrs={'aria-hidden': 'true'})\n",
    "    clearance_price_element = product.find('span', class_='nl-price--total--red')\n",
    "    rating_element = product.find('div', class_='bv_text')\n",
    "    image_element = product.find('div', class_='nl-product-card__image-wrap')\n",
    "\n",
    "    product_name = product_name_element.text.strip() if product_name_element else 'N/A'\n",
    "    original_price = original_price_element.text.strip() if original_price_element else 'N/A'\n",
    "    clearance_price = clearance_price_element.text.strip() if clearance_price_element else 'N/A'\n",
    "    rating = rating_element.text.strip() if rating_element else 'N/A'\n",
    "    product_code_element = product.find('p', class_='nl-product__code', attrs={'aria-hidden': 'true'})\n",
    "    product_code = product_code_element.get_text(strip=True).lstrip('#') if product_code_element else 'N/A'\n",
    "\n",
    "    product_data.append({\n",
    "        'Product Name': product_name,\n",
    "        'Original Price': original_price,\n",
    "        'Clearance Price': clearance_price,\n",
    "        'Rating': rating,\n",
    "        'Product Code': product_code\n",
    "    })\n",
    "\n",
    "print(product_data)"
   ]
  },
  {
   "cell_type": "code",
   "execution_count": null,
   "metadata": {},
   "outputs": [],
   "source": [
    "df1 = pd.DataFrame(product_data)\n",
    "\n",
    "df1.head()"
   ]
  },
  {
   "cell_type": "code",
   "execution_count": 44,
   "metadata": {},
   "outputs": [
    {
     "name": "stdout",
     "output_type": "stream",
     "text": [
      "Total number of results: 731\n",
      "Total number of pages: 31\n"
     ]
    }
   ],
   "source": [
    "base_url = \"https://www.canadiantire.ca/en/promotions/clearance.html?page=\"\n",
    "\n",
    "service = Service(\"C:\\Program Files\\Common Files\\ChromeDriver\\chromedriver.exe\")\n",
    "driver = webdriver.Chrome(service=service)\n",
    "\n",
    "driver.get(base_url)\n",
    "time.sleep(5)\n",
    "html_content = driver.page_source\n",
    "html_soup = soup(html_content, 'html.parser')\n",
    "\n",
    "total_results_element = html_soup.find('span', class_='nl-filters__results')\n",
    "total_results_text = total_results_element.text if total_results_element else '0'\n",
    "\n",
    "total_results = int(re.search(r'\\d+', total_results_text).group())\n",
    "\n",
    "items_per_page = 24\n",
    "total_pages = math.ceil(total_results / items_per_page)\n",
    "\n",
    "product_data = []\n",
    "\n",
    "for page_number in range(1, total_pages + 1):\n",
    "    url = base_url + str(page_number)\n",
    "    driver.get(url)\n",
    "    time.sleep(5)\n",
    "\n",
    "    try:\n",
    "        not_right_now_button = WebDriverWait(driver, 10).until(\n",
    "            EC.element_to_be_clickable((By.ID, \"kplDeclineButton\"))\n",
    "        )\n",
    "        not_right_now_button.click()\n",
    "    except:\n",
    "        pass\n",
    "\n",
    "    html_content = driver.page_source\n",
    "    html_soup = soup(html_content, 'html.parser')\n",
    "\n",
    "    product_info = html_soup.find_all(class_='nl-product-card__primary-details')\n",
    "\n",
    "    for product in product_info:\n",
    "        product_name_element = product.find('div', class_='nl-product-card__title')\n",
    "        original_price_element = product.find('s', attrs={'aria-hidden': 'true'})\n",
    "        clearance_price_element = product.find('span', class_='nl-price--total--red')\n",
    "        rating_element = product.find('div', class_='bv_text')\n",
    "        image_element = product.find('div', class_='nl-product-card__image-wrap')\n",
    "\n",
    "        product_name = product_name_element.text.strip() if product_name_element else 'N/A'\n",
    "        original_price = original_price_element.text.strip() if original_price_element else 'N/A'\n",
    "        clearance_price = clearance_price_element.text.strip() if clearance_price_element else 'N/A'\n",
    "        rating = rating_element.text.strip() if rating_element else 'N/A'\n",
    "        product_code_element = product.find('p', class_='nl-product__code', attrs={'aria-hidden': 'true'})\n",
    "        product_code = product_code_element.get_text(strip=True).lstrip('#') if product_code_element else 'N/A'\n",
    "\n",
    "        product_data.append({\n",
    "            'Product Name': product_name,\n",
    "            'Original Price': original_price,\n",
    "            'Clearance Price': clearance_price,\n",
    "            'Rating': rating,\n",
    "            'Product Code': product_code\n",
    "        })\n",
    "\n",
    "driver.quit()\n",
    "\n",
    "print(f\"Total number of results: {total_results}\")\n",
    "print(f\"Total number of pages: {total_pages}\")"
   ]
  },
  {
   "cell_type": "code",
   "execution_count": 45,
   "metadata": {},
   "outputs": [
    {
     "name": "stdout",
     "output_type": "stream",
     "text": [
      "<class 'pandas.core.frame.DataFrame'>\n",
      "RangeIndex: 731 entries, 0 to 730\n",
      "Data columns (total 5 columns):\n",
      " #   Column           Non-Null Count  Dtype \n",
      "---  ------           --------------  ----- \n",
      " 0   Product Name     731 non-null    object\n",
      " 1   Original Price   731 non-null    object\n",
      " 2   Clearance Price  731 non-null    object\n",
      " 3   Rating           731 non-null    object\n",
      " 4   Product Code     731 non-null    object\n",
      "dtypes: object(5)\n",
      "memory usage: 28.7+ KB\n"
     ]
    }
   ],
   "source": [
    "df = pd.DataFrame(product_data)\n",
    "df.info()"
   ]
  },
  {
   "cell_type": "code",
   "execution_count": 46,
   "metadata": {},
   "outputs": [
    {
     "data": {
      "text/html": [
       "<div>\n",
       "<style scoped>\n",
       "    .dataframe tbody tr th:only-of-type {\n",
       "        vertical-align: middle;\n",
       "    }\n",
       "\n",
       "    .dataframe tbody tr th {\n",
       "        vertical-align: top;\n",
       "    }\n",
       "\n",
       "    .dataframe thead th {\n",
       "        text-align: right;\n",
       "    }\n",
       "</style>\n",
       "<table border=\"1\" class=\"dataframe\">\n",
       "  <thead>\n",
       "    <tr style=\"text-align: right;\">\n",
       "      <th></th>\n",
       "      <th>Product Name</th>\n",
       "      <th>Original Price</th>\n",
       "      <th>Clearance Price</th>\n",
       "      <th>Rating</th>\n",
       "      <th>Product Code</th>\n",
       "    </tr>\n",
       "  </thead>\n",
       "  <tbody>\n",
       "    <tr>\n",
       "      <th>0</th>\n",
       "      <td>Woods™ Canadian Tire 100th Anniversary Special...</td>\n",
       "      <td>N/A</td>\n",
       "      <td>$19.99</td>\n",
       "      <td>4.3</td>\n",
       "      <td>399-8390-4</td>\n",
       "    </tr>\n",
       "    <tr>\n",
       "      <th>1</th>\n",
       "      <td>Bluehive Mouse Pad with Wireless Charger</td>\n",
       "      <td>$29.99</td>\n",
       "      <td>$4.99</td>\n",
       "      <td>4.5</td>\n",
       "      <td>035-8045-4</td>\n",
       "    </tr>\n",
       "    <tr>\n",
       "      <th>2</th>\n",
       "      <td>For Living Convertible Height Adjustable Sit T...</td>\n",
       "      <td>$149.99</td>\n",
       "      <td>$59.99</td>\n",
       "      <td>4.3</td>\n",
       "      <td>068-8200-6</td>\n",
       "    </tr>\n",
       "    <tr>\n",
       "      <th>3</th>\n",
       "      <td>MASTER Chef 3-in-1 Outdoor Deep Fryer, Air Fry...</td>\n",
       "      <td>N/A</td>\n",
       "      <td>N/A</td>\n",
       "      <td>4.1</td>\n",
       "      <td>085-3250-4</td>\n",
       "    </tr>\n",
       "    <tr>\n",
       "      <th>4</th>\n",
       "      <td>LED Plastic Clearance/Running Board Light, Amber</td>\n",
       "      <td>$10.99</td>\n",
       "      <td>$4.93</td>\n",
       "      <td>0.0</td>\n",
       "      <td>020-3411-6</td>\n",
       "    </tr>\n",
       "  </tbody>\n",
       "</table>\n",
       "</div>"
      ],
      "text/plain": [
       "                                        Product Name Original Price  \\\n",
       "0  Woods™ Canadian Tire 100th Anniversary Special...            N/A   \n",
       "1           Bluehive Mouse Pad with Wireless Charger         $29.99   \n",
       "2  For Living Convertible Height Adjustable Sit T...        $149.99   \n",
       "3  MASTER Chef 3-in-1 Outdoor Deep Fryer, Air Fry...            N/A   \n",
       "4   LED Plastic Clearance/Running Board Light, Amber         $10.99   \n",
       "\n",
       "  Clearance Price Rating Product Code  \n",
       "0          $19.99    4.3   399-8390-4  \n",
       "1           $4.99    4.5   035-8045-4  \n",
       "2          $59.99    4.3   068-8200-6  \n",
       "3             N/A    4.1   085-3250-4  \n",
       "4           $4.93    0.0   020-3411-6  "
      ]
     },
     "execution_count": 46,
     "metadata": {},
     "output_type": "execute_result"
    }
   ],
   "source": [
    "df.head()"
   ]
  }
 ],
 "metadata": {
  "kernelspec": {
   "display_name": "base",
   "language": "python",
   "name": "python3"
  },
  "language_info": {
   "codemirror_mode": {
    "name": "ipython",
    "version": 3
   },
   "file_extension": ".py",
   "mimetype": "text/x-python",
   "name": "python",
   "nbconvert_exporter": "python",
   "pygments_lexer": "ipython3",
   "version": "3.9.16"
  },
  "orig_nbformat": 4
 },
 "nbformat": 4,
 "nbformat_minor": 2
}
